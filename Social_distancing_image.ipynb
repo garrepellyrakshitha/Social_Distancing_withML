{
 "cells": [
  {
   "cell_type": "code",
   "execution_count": 1,
   "metadata": {},
   "outputs": [
    {
     "name": "stdout",
     "output_type": "stream",
     "text": [
      "Frame Prediction Time : 1.217931 seconds\n"
     ]
    },
    {
     "data": {
      "text/plain": [
       "81"
      ]
     },
     "execution_count": 1,
     "metadata": {},
     "output_type": "execute_result"
    }
   ],
   "source": [
    "import numpy as np\n",
    "import time\n",
    "import cv2\n",
    "import math\n",
    "\n",
    "labelsPath = \"./coco.names\"\n",
    "LABELS = open(labelsPath).read().strip().split(\"\\n\")\n",
    "\n",
    "np.random.seed(42)\n",
    "COLORS = np.random.randint(0, 255, size=(len(LABELS), 3),\n",
    "\tdtype=\"uint8\")\n",
    "\n",
    "weightsPath = \"./yolov3.weights\"\n",
    "configPath = \"./yolov3.cfg\"\n",
    "\n",
    "net = cv2.dnn.readNetFromDarknet(configPath, weightsPath)\n",
    "\n",
    "\n",
    "image =cv2.imread('./images/test_image.jpg')\n",
    "(H, W) = image.shape[:2]\n",
    "ln = net.getLayerNames()\n",
    "ln = [ln[i[0] - 1] for i in net.getUnconnectedOutLayers()]\n",
    "blob = cv2.dnn.blobFromImage(image, 1 / 255.0, (416, 416),swapRB=True, crop=False)\n",
    "net.setInput(blob)\n",
    "start = time.time()\n",
    "layerOutputs = net.forward(ln)\n",
    "end = time.time()\n",
    "print(\"Frame Prediction Time : {:.6f} seconds\".format(end - start))\n",
    "boxes = []\n",
    "confidences = []\n",
    "classIDs = []\n",
    "for output in layerOutputs:\n",
    "    for detection in output:\n",
    "        scores = detection[5:]\n",
    "        classID = np.argmax(scores)\n",
    "        confidence = scores[classID]\n",
    "        if confidence > 0.5 and classID == 0:\n",
    "            box = detection[0:4] * np.array([W, H, W, H])\n",
    "            (centerX, centerY, width, height) = box.astype(\"int\")\n",
    "            x = int(centerX - (width / 2))\n",
    "            y = int(centerY - (height / 2))\n",
    "            boxes.append([x, y, int(width), int(height)])\n",
    "            confidences.append(float(confidence))\n",
    "            classIDs.append(classID)\n",
    "            \n",
    "idxs = cv2.dnn.NMSBoxes(boxes, confidences, 0.5,0.3)\n",
    "ind = []\n",
    "for i in range(0,len(classIDs)):\n",
    "    if(classIDs[i]==0):\n",
    "        ind.append(i)\n",
    "a = []\n",
    "b = []\n",
    "color = (0,255,0) \n",
    "if len(idxs) > 0:\n",
    "        for i in idxs.flatten():\n",
    "            (x, y) = (boxes[i][0], boxes[i][1])\n",
    "            (w, h) = (boxes[i][2], boxes[i][3])\n",
    "            a.append(x)\n",
    "            b.append(y)\n",
    "            cv2.rectangle(image, (x, y), (x + w, y + h), color, 2)\n",
    "            \n",
    "\n",
    "distance=[] \n",
    "nsd = []\n",
    "for i in range(0,len(a)-1):\n",
    "    for k in range(1,len(a)):\n",
    "        if(k==i):\n",
    "            break\n",
    "        else:\n",
    "            x_dist = (a[k] - a[i])\n",
    "            y_dist = (b[k] - b[i])\n",
    "            d = math.sqrt(x_dist * x_dist + y_dist * y_dist)\n",
    "            distance.append(d)\n",
    "            if(d<=100.0):\n",
    "                nsd.append(i)\n",
    "                nsd.append(k)\n",
    "            nsd = list(dict.fromkeys(nsd))\n",
    "   \n",
    "color = (0, 0, 255)\n",
    "text=\"\"\n",
    "for i in nsd:\n",
    "    (x, y) = (boxes[i][0], boxes[i][1])\n",
    "    (w, h) = (boxes[i][2], boxes[i][3])\n",
    "    cv2.rectangle(image, (x, y), (x + w, y + h), color, 2)\n",
    "    text = \"Alert\"\n",
    "    cv2.putText(image, text, (x, y - 5), cv2.FONT_HERSHEY_SIMPLEX,0.5, color, 2)\n",
    "           \n",
    "cv2.putText(image, text, (x, y - 5), cv2.FONT_HERSHEY_SIMPLEX,0.5, color, 2)\n",
    "cv2.imshow(\"Social Distancing Detector\", image)\n",
    "cv2.imwrite('output.jpg', image)\n",
    "cv2.waitKey()\n"
   ]
  },
  {
   "cell_type": "code",
   "execution_count": null,
   "metadata": {},
   "outputs": [],
   "source": []
  }
 ],
 "metadata": {
  "kernelspec": {
   "display_name": "Python 3",
   "language": "python",
   "name": "python3"
  },
  "language_info": {
   "codemirror_mode": {
    "name": "ipython",
    "version": 3
   },
   "file_extension": ".py",
   "mimetype": "text/x-python",
   "name": "python",
   "nbconvert_exporter": "python",
   "pygments_lexer": "ipython3",
   "version": "3.8.5"
  }
 },
 "nbformat": 4,
 "nbformat_minor": 4
}
